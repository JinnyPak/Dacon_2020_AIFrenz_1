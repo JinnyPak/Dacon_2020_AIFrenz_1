{
 "cells": [
  {
   "cell_type": "code",
   "execution_count": 1,
   "metadata": {},
   "outputs": [
    {
     "name": "stderr",
     "output_type": "stream",
     "text": [
      "C:\\Users\\Jinny Pak\\Anaconda3\\envs\\tensorflow\\lib\\site-packages\\sklearn\\externals\\six.py:31: FutureWarning:\n",
      "\n",
      "The module is deprecated in version 0.21 and will be removed in version 0.23 since we've dropped support for Python 2.7. Please rely on the official version of six (https://pypi.org/project/six/).\n",
      "\n",
      "C:\\Users\\Jinny Pak\\Anaconda3\\envs\\tensorflow\\lib\\site-packages\\sklearn\\externals\\joblib\\__init__.py:15: FutureWarning:\n",
      "\n",
      "sklearn.externals.joblib is deprecated in 0.21 and will be removed in 0.23. Please import this functionality directly from joblib, which can be installed with: pip install joblib. If this warning is raised when loading pickled models, you may need to re-serialize those models with scikit-learn 0.21+.\n",
      "\n"
     ]
    }
   ],
   "source": [
    "import pandas as pd\n",
    "import numpy as np\n",
    "from matplotlib import pyplot as plt\n",
    "import seaborn as sns\n",
    "import plotly.express as px\n",
    "import mglearn"
   ]
  },
  {
   "cell_type": "code",
   "execution_count": 2,
   "metadata": {},
   "outputs": [],
   "source": [
    "def mse_AIFrenz(y_true, y_pred):\n",
    "    '''\n",
    "    y_true: 실제 값\n",
    "    y_pred: 예측 값\n",
    "    '''\n",
    "    diff = abs(y_true - y_pred)\n",
    "\n",
    "    less_then_one = np.where(diff < 1, 0, diff)\n",
    "\n",
    "    # multi-column일 경우에도 계산 할 수 있도록 np.average를 한번 더 씌움\n",
    "    score = np.average(np.average(less_then_one ** 2, axis = 0))\n",
    "\n",
    "    return score"
   ]
  },
  {
   "cell_type": "code",
   "execution_count": 3,
   "metadata": {},
   "outputs": [],
   "source": [
    "train_file = './0_DataSet/train.csv'\n",
    "test_file = './0_DataSet/test.csv'"
   ]
  },
  {
   "cell_type": "code",
   "execution_count": 4,
   "metadata": {},
   "outputs": [],
   "source": [
    "sample_sub=pd.read_csv('sample_submission.csv')\n",
    "test=pd.read_csv(test_file)\n",
    "train=pd.read_csv(train_file)"
   ]
  },
  {
   "cell_type": "code",
   "execution_count": 5,
   "metadata": {},
   "outputs": [],
   "source": [
    "X_train1=train.iloc[:4320,1:41]\n",
    "X_train2=train.iloc[4320:,1:41]\n",
    "y_17=train.iloc[:4320,41:-1]\n",
    "y_18=train.iloc[4320:,59:]"
   ]
  },
  {
   "cell_type": "markdown",
   "metadata": {},
   "source": [
    "## base-line 정의"
   ]
  },
  {
   "cell_type": "code",
   "execution_count": 10,
   "metadata": {},
   "outputs": [],
   "source": [
    "from sklearn.multioutput import MultiOutputRegressor\n",
    "from sklearn.linear_model import Ridge,Lasso\n",
    "from sklearn.tree import DecisionTreeRegressor\n",
    "from sklearn.ensemble import RandomForestRegressor, AdaBoostRegressor, BaggingRegressor, GradientBoostingRegressor\n",
    "from sklearn.svm import SVR\n",
    "from xgboost import XGBRegressor\n",
    "from lightgbm import LGBMRegressor\n",
    "from sklearn.neighbors import KNeighborsRegressor\n",
    "\n",
    "from sklearn.ensemble import VotingRegressor\n",
    "models=[\n",
    "    ('dt',DecisionTreeRegressor()), \n",
    "    ('rf',RandomForestRegressor()),\n",
    "    ('xgb',XGBRegressor()),\n",
    "    ('ab',AdaBoostRegressor()),\n",
    "    ('br',BaggingRegressor()),\n",
    "    ('gb',GradientBoostingRegressor()),\n",
    "    ('sv',SVR()),\n",
    "    ('lgbm',LGBMRegressor()),\n",
    "    ('kn', KNeighborsRegressor()),\n",
    "    ('ridge',Ridge()),\n",
    "    ('lasso',Lasso())\n",
    "    ]"
   ]
  },
  {
   "cell_type": "code",
   "execution_count": 24,
   "metadata": {},
   "outputs": [
    {
     "data": {
      "text/plain": [
       "MultiOutputRegressor(estimator=VotingRegressor(estimators=[('dt',\n",
       "                                                            DecisionTreeRegressor(ccp_alpha=0.0,\n",
       "                                                                                  criterion='mse',\n",
       "                                                                                  max_depth=None,\n",
       "                                                                                  max_features=None,\n",
       "                                                                                  max_leaf_nodes=None,\n",
       "                                                                                  min_impurity_decrease=0.0,\n",
       "                                                                                  min_impurity_split=None,\n",
       "                                                                                  min_samples_leaf=1,\n",
       "                                                                                  min_samples_split=2,\n",
       "                                                                                  min_weight_fraction_leaf=0.0,\n",
       "                                                                                  presort='deprecated',\n",
       "                                                                                  random_state=None,\n",
       "                                                                                  splitter='best')),\n",
       "                                                           ('rf'...\n",
       "                                                           ('ridge',\n",
       "                                                            Ridge(alpha=1.0,\n",
       "                                                                  copy_X=True,\n",
       "                                                                  fit_intercept=True,\n",
       "                                                                  max_iter=None,\n",
       "                                                                  normalize=False,\n",
       "                                                                  random_state=None,\n",
       "                                                                  solver='auto',\n",
       "                                                                  tol=0.001)),\n",
       "                                                           ('lasso',\n",
       "                                                            Lasso(alpha=1.0,\n",
       "                                                                  copy_X=True,\n",
       "                                                                  fit_intercept=True,\n",
       "                                                                  max_iter=1000,\n",
       "                                                                  normalize=False,\n",
       "                                                                  positive=False,\n",
       "                                                                  precompute=False,\n",
       "                                                                  random_state=None,\n",
       "                                                                  selection='cyclic',\n",
       "                                                                  tol=0.0001,\n",
       "                                                                  warm_start=False))],\n",
       "                                               n_jobs=None, weights=None),\n",
       "                     n_jobs=None)"
      ]
     },
     "execution_count": 24,
     "metadata": {},
     "output_type": "execute_result"
    }
   ],
   "source": [
    "# X-> Y00~17 학습 모델\n",
    "vote  = VotingRegressor(models)\n",
    "multi_model=MultiOutputRegressor(vote)\n",
    "multi_model.fit(X_train1,y_17)"
   ]
  },
  {
   "cell_type": "code",
   "execution_count": null,
   "metadata": {},
   "outputs": [],
   "source": [
    "# 3일간의 Y00~17 예측값\n",
    "pred_y17=multi_model.predict(X_train2)\n",
    "pred_y17_df=pd.DataFrame(pred_y17)"
   ]
  },
  {
   "cell_type": "code",
   "execution_count": null,
   "metadata": {},
   "outputs": [],
   "source": [
    "# Y00~17 3일간의 예측값 -> Y18 3일 학습\n",
    "vote2  = VotingRegressor(models)\n",
    "multi_model2=MultiOutputRegressor(vote2)\n",
    "multi_model2.fit(pred_y17,y_18)"
   ]
  },
  {
   "cell_type": "markdown",
   "metadata": {},
   "source": [
    "## 제출할 예측값"
   ]
  },
  {
   "cell_type": "code",
   "execution_count": 27,
   "metadata": {},
   "outputs": [
    {
     "data": {
      "text/html": [
       "<div>\n",
       "<style scoped>\n",
       "    .dataframe tbody tr th:only-of-type {\n",
       "        vertical-align: middle;\n",
       "    }\n",
       "\n",
       "    .dataframe tbody tr th {\n",
       "        vertical-align: top;\n",
       "    }\n",
       "\n",
       "    .dataframe thead th {\n",
       "        text-align: right;\n",
       "    }\n",
       "</style>\n",
       "<table border=\"1\" class=\"dataframe\">\n",
       "  <thead>\n",
       "    <tr style=\"text-align: right;\">\n",
       "      <th></th>\n",
       "      <th>0</th>\n",
       "    </tr>\n",
       "  </thead>\n",
       "  <tbody>\n",
       "    <tr>\n",
       "      <th>0</th>\n",
       "      <td>19.960984</td>\n",
       "    </tr>\n",
       "    <tr>\n",
       "      <th>1</th>\n",
       "      <td>20.270790</td>\n",
       "    </tr>\n",
       "    <tr>\n",
       "      <th>2</th>\n",
       "      <td>19.988945</td>\n",
       "    </tr>\n",
       "    <tr>\n",
       "      <th>3</th>\n",
       "      <td>19.886526</td>\n",
       "    </tr>\n",
       "    <tr>\n",
       "      <th>4</th>\n",
       "      <td>19.643114</td>\n",
       "    </tr>\n",
       "    <tr>\n",
       "      <th>...</th>\n",
       "      <td>...</td>\n",
       "    </tr>\n",
       "    <tr>\n",
       "      <th>11515</th>\n",
       "      <td>26.538323</td>\n",
       "    </tr>\n",
       "    <tr>\n",
       "      <th>11516</th>\n",
       "      <td>26.889662</td>\n",
       "    </tr>\n",
       "    <tr>\n",
       "      <th>11517</th>\n",
       "      <td>26.821821</td>\n",
       "    </tr>\n",
       "    <tr>\n",
       "      <th>11518</th>\n",
       "      <td>26.285530</td>\n",
       "    </tr>\n",
       "    <tr>\n",
       "      <th>11519</th>\n",
       "      <td>26.424193</td>\n",
       "    </tr>\n",
       "  </tbody>\n",
       "</table>\n",
       "<p>11520 rows × 1 columns</p>\n",
       "</div>"
      ],
      "text/plain": [
       "               0\n",
       "0      19.960984\n",
       "1      20.270790\n",
       "2      19.988945\n",
       "3      19.886526\n",
       "4      19.643114\n",
       "...          ...\n",
       "11515  26.538323\n",
       "11516  26.889662\n",
       "11517  26.821821\n",
       "11518  26.285530\n",
       "11519  26.424193\n",
       "\n",
       "[11520 rows x 1 columns]"
      ]
     },
     "execution_count": 27,
     "metadata": {},
     "output_type": "execute_result"
    }
   ],
   "source": [
    "# X_test -> Y00~17 예측\n",
    "pred_test=multi_model.predict(test.iloc[:,1:])\n",
    "pred_test_df=pd.DataFrame(pred_test)\n",
    "\n",
    "# Y00~17 -> Y18 예측\n",
    "pred_test2=multi_model2.predict(pred_test_df)\n",
    "pred_test_df2=pd.DataFrame(pred_test2)\n",
    "pred_test_df2"
   ]
  }
 ],
 "metadata": {
  "kernelspec": {
   "display_name": "Python 3",
   "language": "python",
   "name": "python3"
  },
  "language_info": {
   "codemirror_mode": {
    "name": "ipython",
    "version": 3
   },
   "file_extension": ".py",
   "mimetype": "text/x-python",
   "name": "python",
   "nbconvert_exporter": "python",
   "pygments_lexer": "ipython3",
   "version": "3.7.6"
  }
 },
 "nbformat": 4,
 "nbformat_minor": 4
}
